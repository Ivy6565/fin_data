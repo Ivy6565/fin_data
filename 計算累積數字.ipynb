{
  "nbformat": 4,
  "nbformat_minor": 0,
  "metadata": {
    "colab": {
      "provenance": [],
      "authorship_tag": "ABX9TyPo48EfGqJLIwSM8dSu5A1Q",
      "include_colab_link": true
    },
    "kernelspec": {
      "name": "python3",
      "display_name": "Python 3"
    },
    "language_info": {
      "name": "python"
    }
  },
  "cells": [
    {
      "cell_type": "markdown",
      "metadata": {
        "id": "view-in-github",
        "colab_type": "text"
      },
      "source": [
        "<a href=\"https://colab.research.google.com/github/Ivy6565/fin_data/blob/main/%E8%A8%88%E7%AE%97%E7%B4%AF%E7%A9%8D%E6%95%B8%E5%AD%97.ipynb\" target=\"_parent\"><img src=\"https://colab.research.google.com/assets/colab-badge.svg\" alt=\"Open In Colab\"/></a>"
      ]
    },
    {
      "cell_type": "code",
      "execution_count": null,
      "metadata": {
        "id": "Ya_gX5Tvlfj8"
      },
      "outputs": [],
      "source": [
        "Q1=28347871"
      ]
    },
    {
      "cell_type": "code",
      "source": [
        "Q2=27002293"
      ],
      "metadata": {
        "id": "MAMs1jdYtmsB"
      },
      "execution_count": null,
      "outputs": []
    },
    {
      "cell_type": "code",
      "source": [
        "Q3=27668242"
      ],
      "metadata": {
        "id": "86kfDrvrtp3a"
      },
      "execution_count": null,
      "outputs": []
    },
    {
      "cell_type": "code",
      "source": [
        "Q4=26295929"
      ],
      "metadata": {
        "id": "GdB1CcEmtzx6"
      },
      "execution_count": null,
      "outputs": []
    },
    {
      "cell_type": "code",
      "source": [
        "ACC_Q1=Q1\n",
        "print(ACC_Q4)"
      ],
      "metadata": {
        "colab": {
          "base_uri": "https://localhost:8080/"
        },
        "id": "dKbBTzj1u465",
        "outputId": "e3d2e716-c5f5-4cdc-e28f-c3cc039ad456"
      },
      "execution_count": null,
      "outputs": [
        {
          "output_type": "stream",
          "name": "stdout",
          "text": [
            "109314335\n"
          ]
        }
      ]
    },
    {
      "cell_type": "code",
      "source": [
        "ACC_Q2=Q1+Q2\n",
        "print(ACC_Q2)"
      ],
      "metadata": {
        "colab": {
          "base_uri": "https://localhost:8080/"
        },
        "id": "au50Q5kWu5Qp",
        "outputId": "0c4433b0-1310-4e85-9f59-90cbaa95666c"
      },
      "execution_count": null,
      "outputs": [
        {
          "output_type": "stream",
          "name": "stdout",
          "text": [
            "55350164\n"
          ]
        }
      ]
    },
    {
      "cell_type": "code",
      "source": [
        "ACC_Q3=Q1+Q2+Q3\n",
        "print(ACC_Q3)"
      ],
      "metadata": {
        "colab": {
          "base_uri": "https://localhost:8080/"
        },
        "id": "rCiyeoI6u5Xg",
        "outputId": "cd092f4f-ea93-412f-de4f-be358d1d881e"
      },
      "execution_count": null,
      "outputs": [
        {
          "output_type": "stream",
          "name": "stdout",
          "text": [
            "83018406\n"
          ]
        }
      ]
    },
    {
      "cell_type": "code",
      "source": [
        "ACC_Q4=Q1+Q2+Q3+Q4\n",
        "print(ACC_Q4)"
      ],
      "metadata": {
        "colab": {
          "base_uri": "https://localhost:8080/"
        },
        "id": "1tB0vnGxuMUR",
        "outputId": "12ec7d4a-5ef6-4286-90e4-73fa73c8c635"
      },
      "execution_count": null,
      "outputs": [
        {
          "output_type": "stream",
          "name": "stdout",
          "text": [
            "109314335\n"
          ]
        }
      ]
    }
  ]
}